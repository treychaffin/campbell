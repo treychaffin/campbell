{
 "cells": [
  {
   "cell_type": "code",
   "execution_count": null,
   "metadata": {},
   "outputs": [],
   "source": [
    "import requests"
   ]
  },
  {
   "cell_type": "code",
   "execution_count": null,
   "metadata": {},
   "outputs": [],
   "source": [
    "# https://help.campbellsci.com/crbasic/cr1000x/#Info/webserverapicommands1.htm#kanchor360\n",
    "\n",
    "address = \"172.17.204.40\"\n",
    "command = \"dataquery\"\n",
    "table = \"ASSET_1sec\"\n",
    "format = \"json\"\n",
    "mode = \"most-recent\"\n",
    "parameter = \"p1=1\"\n",
    "\n",
    "url = f\"http://{address}/?command={command}&uri=dl:{table}&format={format}&mode={mode}&{parameter}\"\n",
    "\n",
    "try:\n",
    "    response = requests.get(url)\n",
    "except TimeoutError:\n",
    "    \n",
    "    print(f\"Failed to connect to {address}\")\n",
    "\n",
    "if response.status_code == 200:\n",
    "    data = response.json()\n",
    "    print(url)\n",
    "    date, time = data[\"data\"][0][\"time\"].split(\"T\")\n",
    "    print(f\"Date:\\t\\t{date}\")\n",
    "    print(f\"Time:\\t\\t{time}\\tUTC\")\n",
    "    for i in range(len(data[\"head\"][\"fields\"])):\n",
    "        field = data[\"head\"][\"fields\"][i]['name']\n",
    "        value = data[\"data\"][1][\"vals\"][i]\n",
    "\n",
    "        try: \n",
    "            units = data[\"head\"][\"fields\"][i][\"units\"]\n",
    "        except KeyError:\n",
    "            units = \"\"\n",
    "\n",
    "        if len(field) > 7:\n",
    "            print(f\"{field}\\t{value}\\t\\t{units}\")\n",
    "        else:\n",
    "            print(f\"{field}\\t\\t{value}\\t\\t{units}\")\n",
    "else:\n",
    "    print(f\"Failed to retrieve data: {response.status_code}\")"
   ]
  },
  {
   "cell_type": "code",
   "execution_count": 1,
   "metadata": {},
   "outputs": [
    {
     "name": "stdout",
     "output_type": "stream",
     "text": [
      "date='2024-07-26'\n",
      "time='20:29:00'\n"
     ]
    }
   ],
   "source": [
    "datatime = \"2024-07-26T20:29:00\"\n",
    "\n",
    "date, time = datatime.split(\"T\")\n",
    "print(f\"{date=}\")\n",
    "print(f\"{time=}\")"
   ]
  }
 ],
 "metadata": {
  "kernelspec": {
   "display_name": "Python 3",
   "language": "python",
   "name": "python3"
  },
  "language_info": {
   "codemirror_mode": {
    "name": "ipython",
    "version": 3
   },
   "file_extension": ".py",
   "mimetype": "text/x-python",
   "name": "python",
   "nbconvert_exporter": "python",
   "pygments_lexer": "ipython3",
   "version": "3.10.9"
  }
 },
 "nbformat": 4,
 "nbformat_minor": 2
}
