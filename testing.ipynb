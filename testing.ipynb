{
 "cells": [
  {
   "cell_type": "code",
   "execution_count": 1,
   "metadata": {},
   "outputs": [],
   "source": [
    "import requests"
   ]
  },
  {
   "cell_type": "code",
   "execution_count": null,
   "metadata": {},
   "outputs": [],
   "source": []
  },
  {
   "cell_type": "code",
   "execution_count": 5,
   "metadata": {},
   "outputs": [
    {
     "name": "stdout",
     "output_type": "stream",
     "text": [
      "http://172.17.204.40/?command=dataquery&uri=dl:ASSET_1min&format=json&mode=backfill&p1=1\n",
      "Date:\t\t2024-07-26\n",
      "Time:\t\t20:20:00\tUTC\n",
      "WS_avg\t\t4.495\t\tm/s\n",
      "WindDir_vct\t163.1889\t\tDeg\n",
      "AirTemp_Avg\t32.24\t\tDeg C\n",
      "TT_C_Avg\t36.24\t\tDeg C\n",
      "BP_Avg\t\t975\t\thPa\n",
      "RH_Avg\t\t41.28\t\t%\n",
      "DP_Avg\t\t17.74\t\tDeg C\n",
      "Incoming_SW_Avg\t817.8126\t\t\n",
      "Outgoing_SW_Avg\t147.1932\t\t\n",
      "Incoming_LW_Avg\t416.5873\t\t\n",
      "Outgoing_LW_Avg\t514.0427\t\t\n",
      "NetSW_Avg\t670.6194\t\t\n",
      "NetLW_Avg\t-97.45533\t\t\n",
      "Albedo_Avg\t0.1799833\t\t\n",
      "MetSENS_Status\t0\tunitless\n",
      "Good_Sample_Tot\t60\t\t\n",
      "BattV_Min\t13.18\t\tVolts\n"
     ]
    }
   ],
   "source": [
    "# https://help.campbellsci.com/crbasic/cr1000x/#Info/webserverapicommands1.htm#kanchor360\n",
    "\n",
    "address = \"172.17.204.40\"\n",
    "command = \"dataquery\"\n",
    "table = \"ASSET_1min\"\n",
    "format = \"json\"\n",
    "mode = \"backfill\"\n",
    "parameter = \"p1=1\"\n",
    "\n",
    "url = f\"http://{address}/?command={command}&uri=dl:{table}&format={format}&mode={mode}&{parameter}\"\n",
    "\n",
    "print(url)\n",
    "response = requests.get(url)\n",
    "\n",
    "if response.status_code == 200:\n",
    "    data = response.json()\n",
    "    date, time = data[\"data\"][0][\"time\"].split(\"T\")\n",
    "    print(f\"Date:\\t\\t{date}\")\n",
    "    print(f\"Time:\\t\\t{time}\\tUTC\")\n",
    "    for i in range(len(data[\"head\"][\"fields\"])):\n",
    "        field = data[\"head\"][\"fields\"][i]['name']\n",
    "        value = data[\"data\"][0][\"vals\"][i]\n",
    "\n",
    "        try: \n",
    "            units = data[\"head\"][\"fields\"][i][\"units\"]\n",
    "        except KeyError:\n",
    "            units = \"\"\n",
    "\n",
    "        if len(field) > 7:\n",
    "            if len(units) > 7:\n",
    "                print(f\"{field}\\t{value}\\t{units}\")\n",
    "            else:\n",
    "                print(f\"{field}\\t{value}\\t\\t{units}\")\n",
    "        else:\n",
    "            if len(units) > 7:\n",
    "                print(f\"{field}\\t{value}\\t{units}\")\n",
    "            else:\n",
    "                print(f\"{field}\\t\\t{value}\\t\\t{units}\")\n",
    "else:\n",
    "    print(f\"Failed to retrieve data: {response.status_code}\")"
   ]
  },
  {
   "cell_type": "code",
   "execution_count": 7,
   "metadata": {},
   "outputs": [],
   "source": [
    "from campbell import campbell"
   ]
  },
  {
   "cell_type": "code",
   "execution_count": 3,
   "metadata": {},
   "outputs": [],
   "source": [
    "ASSET = campbell(\"172.17.204.40\",[\"ASSET_1min\"])"
   ]
  },
  {
   "cell_type": "code",
   "execution_count": 4,
   "metadata": {},
   "outputs": [
    {
     "data": {
      "text/plain": [
       "{'ASSET_1min': ['WS_avg',\n",
       "  'WindDir_vct',\n",
       "  'AirTemp_Avg',\n",
       "  'TT_C_Avg',\n",
       "  'BP_Avg',\n",
       "  'RH_Avg',\n",
       "  'DP_Avg',\n",
       "  'Incoming_SW_Avg',\n",
       "  'Outgoing_SW_Avg',\n",
       "  'Incoming_LW_Avg',\n",
       "  'Outgoing_LW_Avg',\n",
       "  'NetSW_Avg',\n",
       "  'NetLW_Avg',\n",
       "  'Albedo_Avg',\n",
       "  'MetSENS_Status',\n",
       "  'Good_Sample_Tot',\n",
       "  'BattV_Min']}"
      ]
     },
     "execution_count": 4,
     "metadata": {},
     "output_type": "execute_result"
    }
   ],
   "source": [
    "ASSET.datafields"
   ]
  },
  {
   "cell_type": "code",
   "execution_count": 5,
   "metadata": {},
   "outputs": [
    {
     "data": {
      "text/plain": [
       "{'ASSET_1min': {'head': {'transaction': 0,\n",
       "   'signature': 49917,\n",
       "   'environment': {'station_name': 'ASI Met Tower',\n",
       "    'table_name': 'ASSET_1min',\n",
       "    'model': 'CR1000X',\n",
       "    'serial_no': '50005',\n",
       "    'os_version': 'CR1000X.Std.06.02',\n",
       "    'prog_name': 'CPU:20230725_ASSET_MET_Deployed_V1.CR1X'},\n",
       "   'fields': [{'name': 'WS_avg',\n",
       "     'type': 'xsd:float',\n",
       "     'units': 'm/s',\n",
       "     'process': 'WVc',\n",
       "     'settable': False},\n",
       "    {'name': 'WindDir_vct',\n",
       "     'type': 'xsd:float',\n",
       "     'units': 'Deg',\n",
       "     'process': 'WVc',\n",
       "     'settable': False},\n",
       "    {'name': 'AirTemp_Avg',\n",
       "     'type': 'xsd:float',\n",
       "     'units': 'Deg C',\n",
       "     'process': 'Avg',\n",
       "     'settable': False},\n",
       "    {'name': 'TT_C_Avg',\n",
       "     'type': 'xsd:float',\n",
       "     'units': 'Deg C',\n",
       "     'process': 'Avg',\n",
       "     'settable': False},\n",
       "    {'name': 'BP_Avg',\n",
       "     'type': 'xsd:float',\n",
       "     'units': 'hPa',\n",
       "     'process': 'Avg',\n",
       "     'settable': False},\n",
       "    {'name': 'RH_Avg',\n",
       "     'type': 'xsd:float',\n",
       "     'units': '%',\n",
       "     'process': 'Avg',\n",
       "     'settable': False},\n",
       "    {'name': 'DP_Avg',\n",
       "     'type': 'xsd:float',\n",
       "     'units': 'Deg C',\n",
       "     'process': 'Avg',\n",
       "     'settable': False},\n",
       "    {'name': 'Incoming_SW_Avg',\n",
       "     'type': 'xsd:float',\n",
       "     'process': 'Avg',\n",
       "     'settable': False},\n",
       "    {'name': 'Outgoing_SW_Avg',\n",
       "     'type': 'xsd:float',\n",
       "     'process': 'Avg',\n",
       "     'settable': False},\n",
       "    {'name': 'Incoming_LW_Avg',\n",
       "     'type': 'xsd:float',\n",
       "     'process': 'Avg',\n",
       "     'settable': False},\n",
       "    {'name': 'Outgoing_LW_Avg',\n",
       "     'type': 'xsd:float',\n",
       "     'process': 'Avg',\n",
       "     'settable': False},\n",
       "    {'name': 'NetSW_Avg',\n",
       "     'type': 'xsd:float',\n",
       "     'process': 'Avg',\n",
       "     'settable': False},\n",
       "    {'name': 'NetLW_Avg',\n",
       "     'type': 'xsd:float',\n",
       "     'process': 'Avg',\n",
       "     'settable': False},\n",
       "    {'name': 'Albedo_Avg',\n",
       "     'type': 'xsd:float',\n",
       "     'process': 'Avg',\n",
       "     'settable': False},\n",
       "    {'name': 'MetSENS_Status',\n",
       "     'type': 'xsd:int',\n",
       "     'units': 'unitless',\n",
       "     'process': 'Smp',\n",
       "     'settable': False},\n",
       "    {'name': 'Good_Sample_Tot',\n",
       "     'type': 'xsd:int',\n",
       "     'process': 'Tot',\n",
       "     'settable': False},\n",
       "    {'name': 'BattV_Min',\n",
       "     'type': 'xsd:float',\n",
       "     'units': 'Volts',\n",
       "     'process': 'Min',\n",
       "     'settable': False}]},\n",
       "  'data': [{'time': '2024-07-24T13:59:00',\n",
       "    'no': 524690,\n",
       "    'vals': [3.091167,\n",
       "     206.3626,\n",
       "     25.6,\n",
       "     25.87,\n",
       "     979.0999,\n",
       "     63.08,\n",
       "     18.35,\n",
       "     330.4453,\n",
       "     75.45666,\n",
       "     370.2716,\n",
       "     452.0292,\n",
       "     254.9887,\n",
       "     -81.7575,\n",
       "     0.2283488,\n",
       "     0,\n",
       "     60,\n",
       "     13.41]}]}}"
      ]
     },
     "execution_count": 5,
     "metadata": {},
     "output_type": "execute_result"
    }
   ],
   "source": [
    "ASSET.data"
   ]
  },
  {
   "cell_type": "code",
   "execution_count": 6,
   "metadata": {},
   "outputs": [
    {
     "data": {
      "text/plain": [
       "['ASSET_1min']"
      ]
     },
     "execution_count": 6,
     "metadata": {},
     "output_type": "execute_result"
    }
   ],
   "source": [
    "ASSET.tables"
   ]
  },
  {
   "cell_type": "code",
   "execution_count": 13,
   "metadata": {},
   "outputs": [
    {
     "name": "stdout",
     "output_type": "stream",
     "text": [
      "+-----------------+---------------------+----------+\n",
      "| Field           | Value               | Units    |\n",
      "+=================+=====================+==========+\n",
      "| time            | 2024-07-26T20:29:00 | UTC      |\n",
      "+-----------------+---------------------+----------+\n",
      "| WS_avg          | 2.449333            | m/s      |\n",
      "+-----------------+---------------------+----------+\n",
      "| WindDir_vct     | 112.3533            | Deg      |\n",
      "+-----------------+---------------------+----------+\n",
      "| AirTemp_Avg     | 32.1                | Deg C    |\n",
      "+-----------------+---------------------+----------+\n",
      "| TT_C_Avg        | 36.49               | Deg C    |\n",
      "+-----------------+---------------------+----------+\n",
      "| BP_Avg          | 975.125             | hPa      |\n",
      "+-----------------+---------------------+----------+\n",
      "| RH_Avg          | 44.48               | %        |\n",
      "+-----------------+---------------------+----------+\n",
      "| DP_Avg          | 18.84               | Deg C    |\n",
      "+-----------------+---------------------+----------+\n",
      "| Incoming_SW_Avg | 805.2811            |          |\n",
      "+-----------------+---------------------+----------+\n",
      "| Outgoing_SW_Avg | 145.5915            |          |\n",
      "+-----------------+---------------------+----------+\n",
      "| Incoming_LW_Avg | 412.9442            |          |\n",
      "+-----------------+---------------------+----------+\n",
      "| Outgoing_LW_Avg | 515.641             |          |\n",
      "+-----------------+---------------------+----------+\n",
      "| NetSW_Avg       | 659.6896            |          |\n",
      "+-----------------+---------------------+----------+\n",
      "| NetLW_Avg       | -102.6968           |          |\n",
      "+-----------------+---------------------+----------+\n",
      "| Albedo_Avg      | 0.1807961           |          |\n",
      "+-----------------+---------------------+----------+\n",
      "| MetSENS_Status  | 0                   | unitless |\n",
      "+-----------------+---------------------+----------+\n",
      "| Good_Sample_Tot | 60                  |          |\n",
      "+-----------------+---------------------+----------+\n",
      "| BattV_Min       | 13.18               | Volts    |\n",
      "+-----------------+---------------------+----------+\n"
     ]
    }
   ],
   "source": [
    "from tabulate import tabulate\n",
    "\n",
    "address = \"172.17.204.40\"\n",
    "table = \"ASSET_1min\"\n",
    "\n",
    "ASSET = campbell(address,[table])\n",
    "\n",
    "time = ASSET.data[table][\"data\"][0][\"time\"]\n",
    "data_table = [[\"time\",time,\"UTC\"]]\n",
    "\n",
    "for field in range(len(ASSET.data[table][\"head\"][\"fields\"])):\n",
    "    name = ASSET.data[table][\"head\"][\"fields\"][field][\"name\"]\n",
    "    value = ASSET.data[table][\"data\"][0][\"vals\"][field]\n",
    "    try: \n",
    "        units = data[\"head\"][\"fields\"][field][\"units\"]\n",
    "    except KeyError:\n",
    "        units = \"\"\n",
    "    data_table.append([name,value,units])\n",
    "\n",
    "print(tabulate(data_table, headers=[\"Field\",\"Value\",\"Units\"], tablefmt=\"grid\"))"
   ]
  },
  {
   "cell_type": "code",
   "execution_count": 1,
   "metadata": {},
   "outputs": [
    {
     "name": "stdout",
     "output_type": "stream",
     "text": [
      "+-----------------+---------------------+----------+\n",
      "| Field           | Value               | Units    |\n",
      "+=================+=====================+==========+\n",
      "| time            | 2024-07-26T20:42:00 | UTC      |\n",
      "+-----------------+---------------------+----------+\n",
      "| WS_avg          | 2.177333            | m/s      |\n",
      "+-----------------+---------------------+----------+\n",
      "| WindDir_vct     | 139.7777            | Deg      |\n",
      "+-----------------+---------------------+----------+\n",
      "| AirTemp_Avg     | 32.47               | Deg C    |\n",
      "+-----------------+---------------------+----------+\n",
      "| TT_C_Avg        | 37.2                | Deg C    |\n",
      "+-----------------+---------------------+----------+\n",
      "| BP_Avg          | 975                 | hPa      |\n",
      "+-----------------+---------------------+----------+\n",
      "| RH_Avg          | 41.65               | %        |\n",
      "+-----------------+---------------------+----------+\n",
      "| DP_Avg          | 18.09               | Deg C    |\n",
      "+-----------------+---------------------+----------+\n",
      "| Incoming_SW_Avg | 785.0131            |          |\n",
      "+-----------------+---------------------+----------+\n",
      "| Outgoing_SW_Avg | 143.6552            |          |\n",
      "+-----------------+---------------------+----------+\n",
      "| Incoming_LW_Avg | 409.6178            |          |\n",
      "+-----------------+---------------------+----------+\n",
      "| Outgoing_LW_Avg | 521.0114            |          |\n",
      "+-----------------+---------------------+----------+\n",
      "| NetSW_Avg       | 641.358             |          |\n",
      "+-----------------+---------------------+----------+\n",
      "| NetLW_Avg       | -111.3935           |          |\n",
      "+-----------------+---------------------+----------+\n",
      "| Albedo_Avg      | 0.1829973           |          |\n",
      "+-----------------+---------------------+----------+\n",
      "| MetSENS_Status  | 0                   | unitless |\n",
      "+-----------------+---------------------+----------+\n",
      "| Good_Sample_Tot | 60                  |          |\n",
      "+-----------------+---------------------+----------+\n",
      "| BattV_Min       | 13.18               | Volts    |\n",
      "+-----------------+---------------------+----------+\n"
     ]
    }
   ],
   "source": [
    "from campbell import campbell\n",
    "from tabulate import tabulate\n",
    "\n",
    "address = \"172.17.204.40\"\n",
    "table = \"ASSET_1min\"\n",
    "\n",
    "ASSET = campbell(address,[table])\n",
    "\n",
    "print(tabulate(ASSET.data_table(table), headers=[\"Field\",\"Value\",\"Units\"], tablefmt=\"grid\"))"
   ]
  }
 ],
 "metadata": {
  "kernelspec": {
   "display_name": "Python 3",
   "language": "python",
   "name": "python3"
  },
  "language_info": {
   "codemirror_mode": {
    "name": "ipython",
    "version": 3
   },
   "file_extension": ".py",
   "mimetype": "text/x-python",
   "name": "python",
   "nbconvert_exporter": "python",
   "pygments_lexer": "ipython3",
   "version": "3.12.4"
  }
 },
 "nbformat": 4,
 "nbformat_minor": 2
}
