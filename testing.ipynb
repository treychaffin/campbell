{
 "cells": [
  {
   "cell_type": "code",
   "execution_count": 1,
   "metadata": {},
   "outputs": [],
   "source": [
    "import requests"
   ]
  },
  {
   "cell_type": "code",
   "execution_count": 9,
   "metadata": {},
   "outputs": [
    {
     "name": "stdout",
     "output_type": "stream",
     "text": [
      "http://172.17.204.40/?command=dataquery&uri=dl:ASSET_1min&format=json&mode=backfill&p1=1\n",
      "Date:\t\t2024-07-21\n",
      "Time:\t\t03:42:00\tUTC\n",
      "WS_avg\t\t0.2745\t\tm/s\n",
      "WindDir_vct\t317.3345\t\tDeg\n",
      "AirTemp_Avg\t18.74\t\tDeg C\n",
      "TT_C_Avg\t17.64\t\tDeg C\n",
      "BP_Avg\t\t978.5949\t\thPa\n",
      "RH_Avg\t\t81.7\t\t%\n",
      "DP_Avg\t\t15.78\t\tDeg C\n",
      "Incoming_SW_Avg\t-0.648\t\t\n",
      "Outgoing_SW_Avg\t0.035\t\t\n",
      "Incoming_LW_Avg\t359.366\t\t\n",
      "Outgoing_LW_Avg\t404.4142\t\t\n",
      "NetSW_Avg\t-0.683\t\t\n",
      "NetLW_Avg\t-45.04817\t\t\n",
      "Albedo_Avg\t-0.05391955\t\t\n",
      "MetSENS_Status\t0\tunitless\n",
      "Good_Sample_Tot\t60\t\t\n",
      "BattV_Min\t12.81\t\tVolts\n"
     ]
    }
   ],
   "source": [
    "# https://help.campbellsci.com/crbasic/cr1000x/#Info/webserverapicommands1.htm#kanchor360\n",
    "\n",
    "address = \"172.17.204.40\"\n",
    "command = \"dataquery\"\n",
    "table = \"ASSET_1min\"\n",
    "format = \"json\"\n",
    "mode = \"backfill\"\n",
    "parameter = \"p1=1\"\n",
    "\n",
    "url = f\"http://{address}/?command={command}&uri=dl:{table}&format={format}&mode={mode}&{parameter}\"\n",
    "\n",
    "print(url)\n",
    "response = requests.get(url)\n",
    "\n",
    "if response.status_code == 200:\n",
    "    data = response.json()\n",
    "    date, time = data[\"data\"][0][\"time\"].split(\"T\")\n",
    "    print(f\"Date:\\t\\t{date}\")\n",
    "    print(f\"Time:\\t\\t{time}\\tUTC\")\n",
    "    for i in range(len(data[\"head\"][\"fields\"])):\n",
    "        field = data[\"head\"][\"fields\"][i]['name']\n",
    "        value = data[\"data\"][0][\"vals\"][i]\n",
    "\n",
    "        try: \n",
    "            units = data[\"head\"][\"fields\"][i][\"units\"]\n",
    "        except KeyError:\n",
    "            units = \"\"\n",
    "\n",
    "        if len(field) > 7:\n",
    "            if len(units) > 7:\n",
    "                print(f\"{field}\\t{value}\\t{units}\")\n",
    "            else:\n",
    "                print(f\"{field}\\t{value}\\t\\t{units}\")\n",
    "        else:\n",
    "            if len(units) > 7:\n",
    "                print(f\"{field}\\t{value}\\t{units}\")\n",
    "            else:\n",
    "                print(f\"{field}\\t\\t{value}\\t\\t{units}\")\n",
    "else:\n",
    "    print(f\"Failed to retrieve data: {response.status_code}\")"
   ]
  }
 ],
 "metadata": {
  "kernelspec": {
   "display_name": "Python 3",
   "language": "python",
   "name": "python3"
  },
  "language_info": {
   "codemirror_mode": {
    "name": "ipython",
    "version": 3
   },
   "file_extension": ".py",
   "mimetype": "text/x-python",
   "name": "python",
   "nbconvert_exporter": "python",
   "pygments_lexer": "ipython3",
   "version": "3.12.4"
  }
 },
 "nbformat": 4,
 "nbformat_minor": 2
}
